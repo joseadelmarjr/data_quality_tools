{
 "cells": [
  {
   "cell_type": "code",
   "execution_count": 1,
   "id": "7fa3c20a-c8a3-4332-9a0b-e1db882ef4b7",
   "metadata": {},
   "outputs": [
    {
     "name": "stdout",
     "output_type": "stream",
     "text": [
      "Requirement already satisfied: ydata-profiling==4.6.4 in /Users/jose/anaconda3/lib/python3.10/site-packages (from -r requirements.txt (line 1)) (4.6.4)\n",
      "Requirement already satisfied: great_expectations==0.18.8 in /Users/jose/anaconda3/lib/python3.10/site-packages (from -r requirements.txt (line 2)) (0.18.8)\n",
      "Requirement already satisfied: pydantic>=2 in /Users/jose/anaconda3/lib/python3.10/site-packages (from ydata-profiling==4.6.4->-r requirements.txt (line 1)) (2.5.3)\n",
      "Requirement already satisfied: visions[type_image_path]==0.7.5 in /Users/jose/anaconda3/lib/python3.10/site-packages (from ydata-profiling==4.6.4->-r requirements.txt (line 1)) (0.7.5)\n",
      "Requirement already satisfied: phik<0.13,>=0.11.1 in /Users/jose/anaconda3/lib/python3.10/site-packages (from ydata-profiling==4.6.4->-r requirements.txt (line 1)) (0.12.4)\n",
      "Requirement already satisfied: multimethod<2,>=1.4 in /Users/jose/anaconda3/lib/python3.10/site-packages (from ydata-profiling==4.6.4->-r requirements.txt (line 1)) (1.11)\n",
      "Requirement already satisfied: PyYAML<6.1,>=5.0.0 in /Users/jose/anaconda3/lib/python3.10/site-packages (from ydata-profiling==4.6.4->-r requirements.txt (line 1)) (6.0)\n",
      "Requirement already satisfied: seaborn<0.13,>=0.10.1 in /Users/jose/anaconda3/lib/python3.10/site-packages (from ydata-profiling==4.6.4->-r requirements.txt (line 1)) (0.12.2)\n",
      "Requirement already satisfied: imagehash==4.3.1 in /Users/jose/anaconda3/lib/python3.10/site-packages (from ydata-profiling==4.6.4->-r requirements.txt (line 1)) (4.3.1)\n",
      "Requirement already satisfied: dacite>=1.8 in /Users/jose/anaconda3/lib/python3.10/site-packages (from ydata-profiling==4.6.4->-r requirements.txt (line 1)) (1.8.1)\n",
      "Requirement already satisfied: jinja2<3.2,>=2.11.1 in /Users/jose/anaconda3/lib/python3.10/site-packages (from ydata-profiling==4.6.4->-r requirements.txt (line 1)) (3.1.2)\n",
      "Requirement already satisfied: pandas!=1.4.0,<3,>1.1 in /Users/jose/anaconda3/lib/python3.10/site-packages (from ydata-profiling==4.6.4->-r requirements.txt (line 1)) (1.5.3)\n",
      "Requirement already satisfied: typeguard<5,>=4.1.2 in /Users/jose/anaconda3/lib/python3.10/site-packages (from ydata-profiling==4.6.4->-r requirements.txt (line 1)) (4.1.5)\n",
      "Requirement already satisfied: wordcloud>=1.9.1 in /Users/jose/anaconda3/lib/python3.10/site-packages (from ydata-profiling==4.6.4->-r requirements.txt (line 1)) (1.9.3)\n",
      "Requirement already satisfied: tqdm<5,>=4.48.2 in /Users/jose/anaconda3/lib/python3.10/site-packages (from ydata-profiling==4.6.4->-r requirements.txt (line 1)) (4.64.1)\n",
      "Requirement already satisfied: statsmodels<1,>=0.13.2 in /Users/jose/anaconda3/lib/python3.10/site-packages (from ydata-profiling==4.6.4->-r requirements.txt (line 1)) (0.13.5)\n",
      "Requirement already satisfied: numpy<1.26,>=1.16.0 in /Users/jose/anaconda3/lib/python3.10/site-packages (from ydata-profiling==4.6.4->-r requirements.txt (line 1)) (1.23.5)\n",
      "Requirement already satisfied: htmlmin==0.1.12 in /Users/jose/anaconda3/lib/python3.10/site-packages (from ydata-profiling==4.6.4->-r requirements.txt (line 1)) (0.1.12)\n",
      "Requirement already satisfied: matplotlib<3.9,>=3.2 in /Users/jose/anaconda3/lib/python3.10/site-packages (from ydata-profiling==4.6.4->-r requirements.txt (line 1)) (3.7.0)\n",
      "Requirement already satisfied: scipy<1.12,>=1.4.1 in /Users/jose/anaconda3/lib/python3.10/site-packages (from ydata-profiling==4.6.4->-r requirements.txt (line 1)) (1.10.0)\n",
      "Requirement already satisfied: numba<0.59.0,>=0.56.0 in /Users/jose/anaconda3/lib/python3.10/site-packages (from ydata-profiling==4.6.4->-r requirements.txt (line 1)) (0.56.4)\n",
      "Requirement already satisfied: requests<3,>=2.24.0 in /Users/jose/anaconda3/lib/python3.10/site-packages (from ydata-profiling==4.6.4->-r requirements.txt (line 1)) (2.31.0)\n",
      "Requirement already satisfied: Click!=8.1.4,>=7.1.2 in /Users/jose/anaconda3/lib/python3.10/site-packages (from great_expectations==0.18.8->-r requirements.txt (line 2)) (8.0.4)\n",
      "Requirement already satisfied: cryptography>=3.2 in /Users/jose/anaconda3/lib/python3.10/site-packages (from great_expectations==0.18.8->-r requirements.txt (line 2)) (39.0.1)\n",
      "Requirement already satisfied: packaging in /Users/jose/anaconda3/lib/python3.10/site-packages (from great_expectations==0.18.8->-r requirements.txt (line 2)) (22.0)\n",
      "Requirement already satisfied: colorama>=0.4.3 in /Users/jose/anaconda3/lib/python3.10/site-packages (from great_expectations==0.18.8->-r requirements.txt (line 2)) (0.4.6)\n",
      "Requirement already satisfied: python-dateutil>=2.8.1 in /Users/jose/anaconda3/lib/python3.10/site-packages (from great_expectations==0.18.8->-r requirements.txt (line 2)) (2.8.2)\n",
      "Requirement already satisfied: ipywidgets>=7.5.1 in /Users/jose/anaconda3/lib/python3.10/site-packages (from great_expectations==0.18.8->-r requirements.txt (line 2)) (8.1.1)\n",
      "Requirement already satisfied: jsonpatch>=1.22 in /Users/jose/anaconda3/lib/python3.10/site-packages (from great_expectations==0.18.8->-r requirements.txt (line 2)) (1.32)\n",
      "Requirement already satisfied: altair<5.0.0,>=4.2.1 in /Users/jose/anaconda3/lib/python3.10/site-packages (from great_expectations==0.18.8->-r requirements.txt (line 2)) (4.2.2)\n",
      "Requirement already satisfied: marshmallow<4.0.0,>=3.7.1 in /Users/jose/anaconda3/lib/python3.10/site-packages (from great_expectations==0.18.8->-r requirements.txt (line 2)) (3.20.2)\n",
      "Requirement already satisfied: pytz>=2021.3 in /Users/jose/anaconda3/lib/python3.10/site-packages (from great_expectations==0.18.8->-r requirements.txt (line 2)) (2022.7)\n",
      "Requirement already satisfied: urllib3>=1.26 in /Users/jose/anaconda3/lib/python3.10/site-packages (from great_expectations==0.18.8->-r requirements.txt (line 2)) (1.26.14)\n",
      "Requirement already satisfied: makefun<2,>=1.7.0 in /Users/jose/anaconda3/lib/python3.10/site-packages (from great_expectations==0.18.8->-r requirements.txt (line 2)) (1.15.2)\n",
      "Requirement already satisfied: nbformat>=5.0 in /Users/jose/anaconda3/lib/python3.10/site-packages (from great_expectations==0.18.8->-r requirements.txt (line 2)) (5.7.0)\n",
      "Requirement already satisfied: ruamel.yaml<0.17.18,>=0.16 in /Users/jose/anaconda3/lib/python3.10/site-packages (from great_expectations==0.18.8->-r requirements.txt (line 2)) (0.17.17)\n",
      "Requirement already satisfied: notebook>=6.4.10 in /Users/jose/anaconda3/lib/python3.10/site-packages (from great_expectations==0.18.8->-r requirements.txt (line 2)) (7.0.7)\n",
      "Requirement already satisfied: pyparsing>=2.4 in /Users/jose/anaconda3/lib/python3.10/site-packages (from great_expectations==0.18.8->-r requirements.txt (line 2)) (3.0.9)\n",
      "Requirement already satisfied: tzlocal>=1.2 in /Users/jose/anaconda3/lib/python3.10/site-packages (from great_expectations==0.18.8->-r requirements.txt (line 2)) (5.2)\n",
      "Requirement already satisfied: mistune>=0.8.4 in /Users/jose/anaconda3/lib/python3.10/site-packages (from great_expectations==0.18.8->-r requirements.txt (line 2)) (0.8.4)\n",
      "Requirement already satisfied: Ipython>=7.16.3 in /Users/jose/anaconda3/lib/python3.10/site-packages (from great_expectations==0.18.8->-r requirements.txt (line 2)) (8.10.0)\n",
      "Requirement already satisfied: typing-extensions>=3.10.0.0 in /Users/jose/anaconda3/lib/python3.10/site-packages (from great_expectations==0.18.8->-r requirements.txt (line 2)) (4.9.0)\n",
      "Requirement already satisfied: jsonschema>=2.5.1 in /Users/jose/anaconda3/lib/python3.10/site-packages (from great_expectations==0.18.8->-r requirements.txt (line 2)) (4.21.1)\n",
      "Requirement already satisfied: pillow in /Users/jose/anaconda3/lib/python3.10/site-packages (from imagehash==4.3.1->ydata-profiling==4.6.4->-r requirements.txt (line 1)) (9.4.0)\n",
      "Requirement already satisfied: PyWavelets in /Users/jose/anaconda3/lib/python3.10/site-packages (from imagehash==4.3.1->ydata-profiling==4.6.4->-r requirements.txt (line 1)) (1.4.1)\n",
      "Requirement already satisfied: attrs>=19.3.0 in /Users/jose/anaconda3/lib/python3.10/site-packages (from visions[type_image_path]==0.7.5->ydata-profiling==4.6.4->-r requirements.txt (line 1)) (23.2.0)\n",
      "Requirement already satisfied: networkx>=2.4 in /Users/jose/anaconda3/lib/python3.10/site-packages (from visions[type_image_path]==0.7.5->ydata-profiling==4.6.4->-r requirements.txt (line 1)) (2.8.4)\n",
      "Requirement already satisfied: tangled-up-in-unicode>=0.0.4 in /Users/jose/anaconda3/lib/python3.10/site-packages (from visions[type_image_path]==0.7.5->ydata-profiling==4.6.4->-r requirements.txt (line 1)) (0.2.0)\n",
      "Requirement already satisfied: toolz in /Users/jose/anaconda3/lib/python3.10/site-packages (from altair<5.0.0,>=4.2.1->great_expectations==0.18.8->-r requirements.txt (line 2)) (0.12.0)\n",
      "Requirement already satisfied: entrypoints in /Users/jose/anaconda3/lib/python3.10/site-packages (from altair<5.0.0,>=4.2.1->great_expectations==0.18.8->-r requirements.txt (line 2)) (0.4)\n",
      "Requirement already satisfied: cffi>=1.12 in /Users/jose/anaconda3/lib/python3.10/site-packages (from cryptography>=3.2->great_expectations==0.18.8->-r requirements.txt (line 2)) (1.15.1)\n",
      "Requirement already satisfied: decorator in /Users/jose/anaconda3/lib/python3.10/site-packages (from Ipython>=7.16.3->great_expectations==0.18.8->-r requirements.txt (line 2)) (5.1.1)\n",
      "Requirement already satisfied: pickleshare in /Users/jose/anaconda3/lib/python3.10/site-packages (from Ipython>=7.16.3->great_expectations==0.18.8->-r requirements.txt (line 2)) (0.7.5)\n",
      "Requirement already satisfied: jedi>=0.16 in /Users/jose/anaconda3/lib/python3.10/site-packages (from Ipython>=7.16.3->great_expectations==0.18.8->-r requirements.txt (line 2)) (0.18.1)\n",
      "Requirement already satisfied: backcall in /Users/jose/anaconda3/lib/python3.10/site-packages (from Ipython>=7.16.3->great_expectations==0.18.8->-r requirements.txt (line 2)) (0.2.0)\n",
      "Requirement already satisfied: matplotlib-inline in /Users/jose/anaconda3/lib/python3.10/site-packages (from Ipython>=7.16.3->great_expectations==0.18.8->-r requirements.txt (line 2)) (0.1.6)\n",
      "Requirement already satisfied: traitlets>=5 in /Users/jose/anaconda3/lib/python3.10/site-packages (from Ipython>=7.16.3->great_expectations==0.18.8->-r requirements.txt (line 2)) (5.7.1)\n",
      "Requirement already satisfied: prompt-toolkit<3.1.0,>=3.0.30 in /Users/jose/anaconda3/lib/python3.10/site-packages (from Ipython>=7.16.3->great_expectations==0.18.8->-r requirements.txt (line 2)) (3.0.36)\n",
      "Requirement already satisfied: stack-data in /Users/jose/anaconda3/lib/python3.10/site-packages (from Ipython>=7.16.3->great_expectations==0.18.8->-r requirements.txt (line 2)) (0.2.0)\n",
      "Requirement already satisfied: pexpect>4.3 in /Users/jose/anaconda3/lib/python3.10/site-packages (from Ipython>=7.16.3->great_expectations==0.18.8->-r requirements.txt (line 2)) (4.8.0)\n",
      "Requirement already satisfied: pygments>=2.4.0 in /Users/jose/anaconda3/lib/python3.10/site-packages (from Ipython>=7.16.3->great_expectations==0.18.8->-r requirements.txt (line 2)) (2.11.2)\n",
      "Requirement already satisfied: appnope in /Users/jose/anaconda3/lib/python3.10/site-packages (from Ipython>=7.16.3->great_expectations==0.18.8->-r requirements.txt (line 2)) (0.1.2)\n",
      "Requirement already satisfied: jupyterlab-widgets~=3.0.9 in /Users/jose/anaconda3/lib/python3.10/site-packages (from ipywidgets>=7.5.1->great_expectations==0.18.8->-r requirements.txt (line 2)) (3.0.9)\n",
      "Requirement already satisfied: comm>=0.1.3 in /Users/jose/anaconda3/lib/python3.10/site-packages (from ipywidgets>=7.5.1->great_expectations==0.18.8->-r requirements.txt (line 2)) (0.2.1)\n",
      "Requirement already satisfied: widgetsnbextension~=4.0.9 in /Users/jose/anaconda3/lib/python3.10/site-packages (from ipywidgets>=7.5.1->great_expectations==0.18.8->-r requirements.txt (line 2)) (4.0.9)\n",
      "Requirement already satisfied: MarkupSafe>=2.0 in /Users/jose/anaconda3/lib/python3.10/site-packages (from jinja2<3.2,>=2.11.1->ydata-profiling==4.6.4->-r requirements.txt (line 1)) (2.1.1)\n",
      "Requirement already satisfied: jsonpointer>=1.9 in /Users/jose/anaconda3/lib/python3.10/site-packages (from jsonpatch>=1.22->great_expectations==0.18.8->-r requirements.txt (line 2)) (2.1)\n",
      "Requirement already satisfied: referencing>=0.28.4 in /Users/jose/anaconda3/lib/python3.10/site-packages (from jsonschema>=2.5.1->great_expectations==0.18.8->-r requirements.txt (line 2)) (0.33.0)\n",
      "Requirement already satisfied: rpds-py>=0.7.1 in /Users/jose/anaconda3/lib/python3.10/site-packages (from jsonschema>=2.5.1->great_expectations==0.18.8->-r requirements.txt (line 2)) (0.17.1)\n",
      "Requirement already satisfied: jsonschema-specifications>=2023.03.6 in /Users/jose/anaconda3/lib/python3.10/site-packages (from jsonschema>=2.5.1->great_expectations==0.18.8->-r requirements.txt (line 2)) (2023.12.1)\n",
      "Requirement already satisfied: fonttools>=4.22.0 in /Users/jose/anaconda3/lib/python3.10/site-packages (from matplotlib<3.9,>=3.2->ydata-profiling==4.6.4->-r requirements.txt (line 1)) (4.25.0)\n",
      "Requirement already satisfied: kiwisolver>=1.0.1 in /Users/jose/anaconda3/lib/python3.10/site-packages (from matplotlib<3.9,>=3.2->ydata-profiling==4.6.4->-r requirements.txt (line 1)) (1.4.4)\n",
      "Requirement already satisfied: cycler>=0.10 in /Users/jose/anaconda3/lib/python3.10/site-packages (from matplotlib<3.9,>=3.2->ydata-profiling==4.6.4->-r requirements.txt (line 1)) (0.11.0)\n",
      "Requirement already satisfied: contourpy>=1.0.1 in /Users/jose/anaconda3/lib/python3.10/site-packages (from matplotlib<3.9,>=3.2->ydata-profiling==4.6.4->-r requirements.txt (line 1)) (1.0.5)\n",
      "Requirement already satisfied: fastjsonschema in /Users/jose/anaconda3/lib/python3.10/site-packages (from nbformat>=5.0->great_expectations==0.18.8->-r requirements.txt (line 2)) (2.16.2)\n",
      "Requirement already satisfied: jupyter-core in /Users/jose/anaconda3/lib/python3.10/site-packages (from nbformat>=5.0->great_expectations==0.18.8->-r requirements.txt (line 2)) (5.2.0)\n",
      "Requirement already satisfied: tornado>=6.2.0 in /Users/jose/anaconda3/lib/python3.10/site-packages (from notebook>=6.4.10->great_expectations==0.18.8->-r requirements.txt (line 2)) (6.4)\n",
      "Requirement already satisfied: notebook-shim<0.3,>=0.2 in /Users/jose/anaconda3/lib/python3.10/site-packages (from notebook>=6.4.10->great_expectations==0.18.8->-r requirements.txt (line 2)) (0.2.2)\n",
      "Requirement already satisfied: jupyter-server<3,>=2.4.0 in /Users/jose/anaconda3/lib/python3.10/site-packages (from notebook>=6.4.10->great_expectations==0.18.8->-r requirements.txt (line 2)) (2.12.5)\n",
      "Requirement already satisfied: jupyterlab-server<3,>=2.22.1 in /Users/jose/anaconda3/lib/python3.10/site-packages (from notebook>=6.4.10->great_expectations==0.18.8->-r requirements.txt (line 2)) (2.25.2)\n",
      "Requirement already satisfied: jupyterlab<5,>=4.0.2 in /Users/jose/anaconda3/lib/python3.10/site-packages (from notebook>=6.4.10->great_expectations==0.18.8->-r requirements.txt (line 2)) (4.0.12)\n",
      "Requirement already satisfied: llvmlite<0.40,>=0.39.0dev0 in /Users/jose/anaconda3/lib/python3.10/site-packages (from numba<0.59.0,>=0.56.0->ydata-profiling==4.6.4->-r requirements.txt (line 1)) (0.39.1)\n",
      "Requirement already satisfied: setuptools in /Users/jose/anaconda3/lib/python3.10/site-packages (from numba<0.59.0,>=0.56.0->ydata-profiling==4.6.4->-r requirements.txt (line 1)) (65.6.3)\n",
      "Requirement already satisfied: joblib>=0.14.1 in /Users/jose/anaconda3/lib/python3.10/site-packages (from phik<0.13,>=0.11.1->ydata-profiling==4.6.4->-r requirements.txt (line 1)) (1.1.1)\n",
      "Requirement already satisfied: annotated-types>=0.4.0 in /Users/jose/anaconda3/lib/python3.10/site-packages (from pydantic>=2->ydata-profiling==4.6.4->-r requirements.txt (line 1)) (0.6.0)\n",
      "Requirement already satisfied: pydantic-core==2.14.6 in /Users/jose/anaconda3/lib/python3.10/site-packages (from pydantic>=2->ydata-profiling==4.6.4->-r requirements.txt (line 1)) (2.14.6)\n",
      "Requirement already satisfied: six>=1.5 in /Users/jose/anaconda3/lib/python3.10/site-packages (from python-dateutil>=2.8.1->great_expectations==0.18.8->-r requirements.txt (line 2)) (1.16.0)\n",
      "Requirement already satisfied: idna<4,>=2.5 in /Users/jose/anaconda3/lib/python3.10/site-packages (from requests<3,>=2.24.0->ydata-profiling==4.6.4->-r requirements.txt (line 1)) (3.4)\n",
      "Requirement already satisfied: certifi>=2017.4.17 in /Users/jose/anaconda3/lib/python3.10/site-packages (from requests<3,>=2.24.0->ydata-profiling==4.6.4->-r requirements.txt (line 1)) (2022.12.7)\n",
      "Requirement already satisfied: charset-normalizer<4,>=2 in /Users/jose/anaconda3/lib/python3.10/site-packages (from requests<3,>=2.24.0->ydata-profiling==4.6.4->-r requirements.txt (line 1)) (2.0.4)\n",
      "Requirement already satisfied: patsy>=0.5.2 in /Users/jose/anaconda3/lib/python3.10/site-packages (from statsmodels<1,>=0.13.2->ydata-profiling==4.6.4->-r requirements.txt (line 1)) (0.5.3)\n",
      "Requirement already satisfied: pycparser in /Users/jose/anaconda3/lib/python3.10/site-packages (from cffi>=1.12->cryptography>=3.2->great_expectations==0.18.8->-r requirements.txt (line 2)) (2.21)\n",
      "Requirement already satisfied: parso<0.9.0,>=0.8.0 in /Users/jose/anaconda3/lib/python3.10/site-packages (from jedi>=0.16->Ipython>=7.16.3->great_expectations==0.18.8->-r requirements.txt (line 2)) (0.8.3)\n",
      "Requirement already satisfied: send2trash>=1.8.2 in /Users/jose/anaconda3/lib/python3.10/site-packages (from jupyter-server<3,>=2.4.0->notebook>=6.4.10->great_expectations==0.18.8->-r requirements.txt (line 2)) (1.8.2)\n",
      "Requirement already satisfied: websocket-client in /Users/jose/anaconda3/lib/python3.10/site-packages (from jupyter-server<3,>=2.4.0->notebook>=6.4.10->great_expectations==0.18.8->-r requirements.txt (line 2)) (0.58.0)\n",
      "Requirement already satisfied: nbconvert>=6.4.4 in /Users/jose/anaconda3/lib/python3.10/site-packages (from jupyter-server<3,>=2.4.0->notebook>=6.4.10->great_expectations==0.18.8->-r requirements.txt (line 2)) (6.5.4)\n",
      "Requirement already satisfied: pyzmq>=24 in /Users/jose/anaconda3/lib/python3.10/site-packages (from jupyter-server<3,>=2.4.0->notebook>=6.4.10->great_expectations==0.18.8->-r requirements.txt (line 2)) (25.1.2)\n",
      "Requirement already satisfied: anyio>=3.1.0 in /Users/jose/anaconda3/lib/python3.10/site-packages (from jupyter-server<3,>=2.4.0->notebook>=6.4.10->great_expectations==0.18.8->-r requirements.txt (line 2)) (3.5.0)\n",
      "Requirement already satisfied: jupyter-events>=0.9.0 in /Users/jose/anaconda3/lib/python3.10/site-packages (from jupyter-server<3,>=2.4.0->notebook>=6.4.10->great_expectations==0.18.8->-r requirements.txt (line 2)) (0.9.0)\n",
      "Requirement already satisfied: prometheus-client in /Users/jose/anaconda3/lib/python3.10/site-packages (from jupyter-server<3,>=2.4.0->notebook>=6.4.10->great_expectations==0.18.8->-r requirements.txt (line 2)) (0.14.1)\n",
      "Requirement already satisfied: jupyter-client>=7.4.4 in /Users/jose/anaconda3/lib/python3.10/site-packages (from jupyter-server<3,>=2.4.0->notebook>=6.4.10->great_expectations==0.18.8->-r requirements.txt (line 2)) (8.6.0)\n",
      "Requirement already satisfied: terminado>=0.8.3 in /Users/jose/anaconda3/lib/python3.10/site-packages (from jupyter-server<3,>=2.4.0->notebook>=6.4.10->great_expectations==0.18.8->-r requirements.txt (line 2)) (0.17.1)\n",
      "Requirement already satisfied: argon2-cffi in /Users/jose/anaconda3/lib/python3.10/site-packages (from jupyter-server<3,>=2.4.0->notebook>=6.4.10->great_expectations==0.18.8->-r requirements.txt (line 2)) (21.3.0)\n",
      "Requirement already satisfied: jupyter-server-terminals in /Users/jose/anaconda3/lib/python3.10/site-packages (from jupyter-server<3,>=2.4.0->notebook>=6.4.10->great_expectations==0.18.8->-r requirements.txt (line 2)) (0.5.2)\n",
      "Requirement already satisfied: overrides in /Users/jose/anaconda3/lib/python3.10/site-packages (from jupyter-server<3,>=2.4.0->notebook>=6.4.10->great_expectations==0.18.8->-r requirements.txt (line 2)) (7.7.0)\n",
      "Requirement already satisfied: platformdirs>=2.5 in /Users/jose/anaconda3/lib/python3.10/site-packages (from jupyter-core->nbformat>=5.0->great_expectations==0.18.8->-r requirements.txt (line 2)) (3.6.0)\n",
      "Requirement already satisfied: ipykernel in /Users/jose/anaconda3/lib/python3.10/site-packages (from jupyterlab<5,>=4.0.2->notebook>=6.4.10->great_expectations==0.18.8->-r requirements.txt (line 2)) (6.19.2)\n",
      "Requirement already satisfied: async-lru>=1.0.0 in /Users/jose/anaconda3/lib/python3.10/site-packages (from jupyterlab<5,>=4.0.2->notebook>=6.4.10->great_expectations==0.18.8->-r requirements.txt (line 2)) (2.0.4)\n",
      "Requirement already satisfied: tomli in /Users/jose/anaconda3/lib/python3.10/site-packages (from jupyterlab<5,>=4.0.2->notebook>=6.4.10->great_expectations==0.18.8->-r requirements.txt (line 2)) (2.0.1)\n",
      "Requirement already satisfied: jupyter-lsp>=2.0.0 in /Users/jose/anaconda3/lib/python3.10/site-packages (from jupyterlab<5,>=4.0.2->notebook>=6.4.10->great_expectations==0.18.8->-r requirements.txt (line 2)) (2.2.2)\n",
      "Requirement already satisfied: json5>=0.9.0 in /Users/jose/anaconda3/lib/python3.10/site-packages (from jupyterlab-server<3,>=2.22.1->notebook>=6.4.10->great_expectations==0.18.8->-r requirements.txt (line 2)) (0.9.6)\n",
      "Requirement already satisfied: babel>=2.10 in /Users/jose/anaconda3/lib/python3.10/site-packages (from jupyterlab-server<3,>=2.22.1->notebook>=6.4.10->great_expectations==0.18.8->-r requirements.txt (line 2)) (2.11.0)\n",
      "Requirement already satisfied: ptyprocess>=0.5 in /Users/jose/anaconda3/lib/python3.10/site-packages (from pexpect>4.3->Ipython>=7.16.3->great_expectations==0.18.8->-r requirements.txt (line 2)) (0.7.0)\n",
      "Requirement already satisfied: wcwidth in /Users/jose/anaconda3/lib/python3.10/site-packages (from prompt-toolkit<3.1.0,>=3.0.30->Ipython>=7.16.3->great_expectations==0.18.8->-r requirements.txt (line 2)) (0.2.5)\n",
      "Requirement already satisfied: executing in /Users/jose/anaconda3/lib/python3.10/site-packages (from stack-data->Ipython>=7.16.3->great_expectations==0.18.8->-r requirements.txt (line 2)) (0.8.3)\n",
      "Requirement already satisfied: asttokens in /Users/jose/anaconda3/lib/python3.10/site-packages (from stack-data->Ipython>=7.16.3->great_expectations==0.18.8->-r requirements.txt (line 2)) (2.0.5)\n",
      "Requirement already satisfied: pure-eval in /Users/jose/anaconda3/lib/python3.10/site-packages (from stack-data->Ipython>=7.16.3->great_expectations==0.18.8->-r requirements.txt (line 2)) (0.2.2)\n",
      "Requirement already satisfied: sniffio>=1.1 in /Users/jose/anaconda3/lib/python3.10/site-packages (from anyio>=3.1.0->jupyter-server<3,>=2.4.0->notebook>=6.4.10->great_expectations==0.18.8->-r requirements.txt (line 2)) (1.2.0)\n",
      "Requirement already satisfied: rfc3986-validator>=0.1.1 in /Users/jose/anaconda3/lib/python3.10/site-packages (from jupyter-events>=0.9.0->jupyter-server<3,>=2.4.0->notebook>=6.4.10->great_expectations==0.18.8->-r requirements.txt (line 2)) (0.1.1)\n",
      "Requirement already satisfied: python-json-logger>=2.0.4 in /Users/jose/anaconda3/lib/python3.10/site-packages (from jupyter-events>=0.9.0->jupyter-server<3,>=2.4.0->notebook>=6.4.10->great_expectations==0.18.8->-r requirements.txt (line 2)) (2.0.7)\n",
      "Requirement already satisfied: rfc3339-validator in /Users/jose/anaconda3/lib/python3.10/site-packages (from jupyter-events>=0.9.0->jupyter-server<3,>=2.4.0->notebook>=6.4.10->great_expectations==0.18.8->-r requirements.txt (line 2)) (0.1.4)\n",
      "Requirement already satisfied: lxml in /Users/jose/anaconda3/lib/python3.10/site-packages (from nbconvert>=6.4.4->jupyter-server<3,>=2.4.0->notebook>=6.4.10->great_expectations==0.18.8->-r requirements.txt (line 2)) (4.9.1)\n",
      "Requirement already satisfied: beautifulsoup4 in /Users/jose/anaconda3/lib/python3.10/site-packages (from nbconvert>=6.4.4->jupyter-server<3,>=2.4.0->notebook>=6.4.10->great_expectations==0.18.8->-r requirements.txt (line 2)) (4.11.1)\n",
      "Requirement already satisfied: jupyterlab-pygments in /Users/jose/anaconda3/lib/python3.10/site-packages (from nbconvert>=6.4.4->jupyter-server<3,>=2.4.0->notebook>=6.4.10->great_expectations==0.18.8->-r requirements.txt (line 2)) (0.1.2)\n",
      "Requirement already satisfied: defusedxml in /Users/jose/anaconda3/lib/python3.10/site-packages (from nbconvert>=6.4.4->jupyter-server<3,>=2.4.0->notebook>=6.4.10->great_expectations==0.18.8->-r requirements.txt (line 2)) (0.7.1)\n",
      "Requirement already satisfied: pandocfilters>=1.4.1 in /Users/jose/anaconda3/lib/python3.10/site-packages (from nbconvert>=6.4.4->jupyter-server<3,>=2.4.0->notebook>=6.4.10->great_expectations==0.18.8->-r requirements.txt (line 2)) (1.5.0)\n",
      "Requirement already satisfied: nbclient>=0.5.0 in /Users/jose/anaconda3/lib/python3.10/site-packages (from nbconvert>=6.4.4->jupyter-server<3,>=2.4.0->notebook>=6.4.10->great_expectations==0.18.8->-r requirements.txt (line 2)) (0.5.13)\n",
      "Requirement already satisfied: bleach in /Users/jose/anaconda3/lib/python3.10/site-packages (from nbconvert>=6.4.4->jupyter-server<3,>=2.4.0->notebook>=6.4.10->great_expectations==0.18.8->-r requirements.txt (line 2)) (4.1.0)\n",
      "Requirement already satisfied: tinycss2 in /Users/jose/anaconda3/lib/python3.10/site-packages (from nbconvert>=6.4.4->jupyter-server<3,>=2.4.0->notebook>=6.4.10->great_expectations==0.18.8->-r requirements.txt (line 2)) (1.2.1)\n",
      "Requirement already satisfied: argon2-cffi-bindings in /Users/jose/anaconda3/lib/python3.10/site-packages (from argon2-cffi->jupyter-server<3,>=2.4.0->notebook>=6.4.10->great_expectations==0.18.8->-r requirements.txt (line 2)) (21.2.0)\n",
      "Requirement already satisfied: nest-asyncio in /Users/jose/anaconda3/lib/python3.10/site-packages (from ipykernel->jupyterlab<5,>=4.0.2->notebook>=6.4.10->great_expectations==0.18.8->-r requirements.txt (line 2)) (1.5.6)\n",
      "Requirement already satisfied: psutil in /Users/jose/anaconda3/lib/python3.10/site-packages (from ipykernel->jupyterlab<5,>=4.0.2->notebook>=6.4.10->great_expectations==0.18.8->-r requirements.txt (line 2)) (5.9.0)\n",
      "Requirement already satisfied: debugpy>=1.0 in /Users/jose/anaconda3/lib/python3.10/site-packages (from ipykernel->jupyterlab<5,>=4.0.2->notebook>=6.4.10->great_expectations==0.18.8->-r requirements.txt (line 2)) (1.5.1)\n",
      "Requirement already satisfied: fqdn in /Users/jose/anaconda3/lib/python3.10/site-packages (from jsonschema>=2.5.1->great_expectations==0.18.8->-r requirements.txt (line 2)) (1.5.1)\n",
      "Requirement already satisfied: uri-template in /Users/jose/anaconda3/lib/python3.10/site-packages (from jsonschema>=2.5.1->great_expectations==0.18.8->-r requirements.txt (line 2)) (1.3.0)\n",
      "Requirement already satisfied: webcolors>=1.11 in /Users/jose/anaconda3/lib/python3.10/site-packages (from jsonschema>=2.5.1->great_expectations==0.18.8->-r requirements.txt (line 2)) (1.13)\n",
      "Requirement already satisfied: isoduration in /Users/jose/anaconda3/lib/python3.10/site-packages (from jsonschema>=2.5.1->great_expectations==0.18.8->-r requirements.txt (line 2)) (20.11.0)\n",
      "Requirement already satisfied: soupsieve>1.2 in /Users/jose/anaconda3/lib/python3.10/site-packages (from beautifulsoup4->nbconvert>=6.4.4->jupyter-server<3,>=2.4.0->notebook>=6.4.10->great_expectations==0.18.8->-r requirements.txt (line 2)) (2.3.2.post1)\n",
      "Requirement already satisfied: webencodings in /Users/jose/anaconda3/lib/python3.10/site-packages (from bleach->nbconvert>=6.4.4->jupyter-server<3,>=2.4.0->notebook>=6.4.10->great_expectations==0.18.8->-r requirements.txt (line 2)) (0.5.1)\n",
      "Requirement already satisfied: arrow>=0.15.0 in /Users/jose/anaconda3/lib/python3.10/site-packages (from isoduration->jsonschema>=2.5.1->great_expectations==0.18.8->-r requirements.txt (line 2)) (1.2.3)\n",
      "Note: you may need to restart the kernel to use updated packages.\n"
     ]
    }
   ],
   "source": [
    "pip install -r requirements.txt"
   ]
  },
  {
   "cell_type": "code",
   "execution_count": 3,
   "id": "03cb4445-ee2b-4830-81c6-769b785e4165",
   "metadata": {},
   "outputs": [],
   "source": [
    "import great_expectations as gx\n",
    "\n",
    "context = gx.get_context()"
   ]
  },
  {
   "cell_type": "code",
   "execution_count": 6,
   "id": "274372fc-a8ab-46f3-9e06-28554da7f4a7",
   "metadata": {},
   "outputs": [],
   "source": [
    "validator = context.sources.pandas_default.read_csv(\"data/2004-2021.tsv\",sep=\"\t\")"
   ]
  },
  {
   "cell_type": "code",
   "execution_count": 7,
   "id": "21fe4dad-f0e0-46c0-9354-953438a1f989",
   "metadata": {},
   "outputs": [
    {
     "data": {
      "text/plain": [
       "{\n",
       "  \"expectation_suite_name\": \"my_expectation_suite\",\n",
       "  \"ge_cloud_id\": null,\n",
       "  \"expectations\": [],\n",
       "  \"data_asset_type\": null,\n",
       "  \"meta\": {\n",
       "    \"great_expectations_version\": \"0.18.8\"\n",
       "  }\n",
       "}"
      ]
     },
     "execution_count": 7,
     "metadata": {},
     "output_type": "execute_result"
    }
   ],
   "source": [
    "context.add_or_update_expectation_suite(\"my_expectation_suite\")"
   ]
  },
  {
   "cell_type": "code",
   "execution_count": 27,
   "id": "d9a5c6dc-3abf-43aa-8014-d8ae5bfc2071",
   "metadata": {},
   "outputs": [],
   "source": [
    "tests = []"
   ]
  },
  {
   "cell_type": "code",
   "execution_count": 28,
   "id": "0fc70ea7-f461-4070-913f-822152b64842",
   "metadata": {},
   "outputs": [
    {
     "data": {
      "application/vnd.jupyter.widget-view+json": {
       "model_id": "41791db27fde423a87ffb12805b76912",
       "version_major": 2,
       "version_minor": 0
      },
      "text/plain": [
       "Calculating Metrics:   0%|          | 0/6 [00:00<?, ?it/s]"
      ]
     },
     "metadata": {},
     "output_type": "display_data"
    }
   ],
   "source": [
    "tests.append(validator.expect_column_values_to_not_be_null(\n",
    "    column=\"DATA INICIAL\"\n",
    ")\n",
    "           )"
   ]
  },
  {
   "cell_type": "code",
   "execution_count": 29,
   "id": "968d89e7-41d9-4ca0-8173-b900961f22ab",
   "metadata": {},
   "outputs": [
    {
     "data": {
      "application/vnd.jupyter.widget-view+json": {
       "model_id": "0bbf515cce0f4e25812c12a7b481c3b8",
       "version_major": 2,
       "version_minor": 0
      },
      "text/plain": [
       "Calculating Metrics:   0%|          | 0/6 [00:00<?, ?it/s]"
      ]
     },
     "metadata": {},
     "output_type": "display_data"
    }
   ],
   "source": [
    "tests.append(validator.expect_column_values_to_not_be_null(\n",
    "    column=\"DATA FINAL\"\n",
    ")\n",
    "           )"
   ]
  },
  {
   "cell_type": "code",
   "execution_count": 30,
   "id": "4c129a71-3be0-4a21-bbdf-bfa8dd03979c",
   "metadata": {},
   "outputs": [
    {
     "data": {
      "application/vnd.jupyter.widget-view+json": {
       "model_id": "d9184646915142daaaec4a57b929ca18",
       "version_major": 2,
       "version_minor": 0
      },
      "text/plain": [
       "Calculating Metrics:   0%|          | 0/4 [00:00<?, ?it/s]"
      ]
     },
     "metadata": {},
     "output_type": "display_data"
    }
   ],
   "source": [
    "tests.append(validator.expect_column_unique_value_count_to_be_between(\n",
    "    column=\"ESTADO\"\n",
    "    ,min_value=1\n",
    "    ,max_value=27\n",
    ")\n",
    "            )"
   ]
  },
  {
   "cell_type": "code",
   "execution_count": 37,
   "id": "57497c22-9526-4bf4-a537-cb7ec6e8b471",
   "metadata": {},
   "outputs": [
    {
     "data": {
      "application/vnd.jupyter.widget-view+json": {
       "model_id": "18dd344ebd1b401f85a9053cd758d9d0",
       "version_major": 2,
       "version_minor": 0
      },
      "text/plain": [
       "Calculating Metrics:   0%|          | 0/8 [00:00<?, ?it/s]"
      ]
     },
     "metadata": {},
     "output_type": "display_data"
    },
    {
     "data": {
      "text/plain": [
       "{\n",
       "  \"success\": true,\n",
       "  \"result\": {\n",
       "    \"element_count\": 120823,\n",
       "    \"unexpected_count\": 0,\n",
       "    \"unexpected_percent\": 0.0,\n",
       "    \"partial_unexpected_list\": [],\n",
       "    \"missing_count\": 0,\n",
       "    \"missing_percent\": 0.0,\n",
       "    \"unexpected_percent_total\": 0.0,\n",
       "    \"unexpected_percent_nonmissing\": 0.0\n",
       "  },\n",
       "  \"meta\": {},\n",
       "  \"exception_info\": {\n",
       "    \"raised_exception\": false,\n",
       "    \"exception_traceback\": null,\n",
       "    \"exception_message\": null\n",
       "  }\n",
       "}"
      ]
     },
     "execution_count": 37,
     "metadata": {},
     "output_type": "execute_result"
    }
   ],
   "source": [
    "tests.append(validator.expect_column_values_to_match_regex(\n",
    "     column=\"UNIDADE DE MEDIDA\"\n",
    "    ,regex=\"^R\\$/\"\n",
    ")\n",
    "            )            \n"
   ]
  },
  {
   "cell_type": "code",
   "execution_count": 43,
   "id": "b274e99e-ad59-4dee-a9ad-78696af4bbbf",
   "metadata": {},
   "outputs": [
    {
     "data": {
      "application/vnd.jupyter.widget-view+json": {
       "model_id": "7aaaade477cb4b1da4e703d29df523d3",
       "version_major": 2,
       "version_minor": 0
      },
      "text/plain": [
       "Calculating Metrics:   0%|          | 0/7 [00:00<?, ?it/s]"
      ]
     },
     "metadata": {},
     "output_type": "display_data"
    },
    {
     "data": {
      "text/plain": [
       "{\n",
       "  \"success\": true,\n",
       "  \"result\": {\n",
       "    \"element_count\": 120823,\n",
       "    \"unexpected_count\": 0,\n",
       "    \"unexpected_percent\": 0.0,\n",
       "    \"partial_unexpected_list\": [],\n",
       "    \"missing_count\": 0,\n",
       "    \"missing_percent\": 0.0,\n",
       "    \"unexpected_percent_total\": 0.0,\n",
       "    \"unexpected_percent_nonmissing\": 0.0\n",
       "  },\n",
       "  \"meta\": {},\n",
       "  \"exception_info\": {\n",
       "    \"raised_exception\": false,\n",
       "    \"exception_traceback\": null,\n",
       "    \"exception_message\": null\n",
       "  }\n",
       "}"
      ]
     },
     "execution_count": 43,
     "metadata": {},
     "output_type": "execute_result"
    }
   ],
   "source": [
    "validator.expect_column_pair_values_A_to_be_greater_than_B(\n",
    "    column_A=\"PREÇO MÁXIMO REVENDA\"\n",
    "    ,column_B=\"PREÇO MÍNIMO REVENDA\"\n",
    "    ,or_equal=True\n",
    ")"
   ]
  },
  {
   "cell_type": "code",
   "execution_count": 38,
   "id": "03ca4f0f-b969-4321-bf9d-8e6bc04c57e3",
   "metadata": {},
   "outputs": [
    {
     "data": {
      "text/plain": [
       "{\n",
       "  \"expectation_suite_name\": \"default\",\n",
       "  \"ge_cloud_id\": null,\n",
       "  \"expectations\": [\n",
       "    {\n",
       "      \"expectation_type\": \"expect_column_values_to_not_be_null\",\n",
       "      \"kwargs\": {\n",
       "        \"column\": \"DATA INICIAL\"\n",
       "      },\n",
       "      \"meta\": {}\n",
       "    },\n",
       "    {\n",
       "      \"expectation_type\": \"expect_column_values_to_not_be_null\",\n",
       "      \"kwargs\": {\n",
       "        \"column\": \"DATA FINAL\"\n",
       "      },\n",
       "      \"meta\": {}\n",
       "    },\n",
       "    {\n",
       "      \"expectation_type\": \"expect_column_unique_value_count_to_be_between\",\n",
       "      \"kwargs\": {\n",
       "        \"column\": \"ESTADO\",\n",
       "        \"min_value\": 1,\n",
       "        \"max_value\": 27\n",
       "      },\n",
       "      \"meta\": {}\n",
       "    },\n",
       "    {\n",
       "      \"expectation_type\": \"expect_column_values_to_match_regex\",\n",
       "      \"kwargs\": {\n",
       "        \"column\": \"UNIDADE DE MEDIDA\",\n",
       "        \"regex\": \"^R\\\\$/\"\n",
       "      },\n",
       "      \"meta\": {}\n",
       "    }\n",
       "  ],\n",
       "  \"data_asset_type\": null,\n",
       "  \"meta\": {\n",
       "    \"great_expectations_version\": \"0.18.8\"\n",
       "  }\n",
       "}"
      ]
     },
     "execution_count": 38,
     "metadata": {},
     "output_type": "execute_result"
    }
   ],
   "source": [
    "validator.get_expectation_suite()"
   ]
  }
 ],
 "metadata": {
  "kernelspec": {
   "display_name": "Python 3 (ipykernel)",
   "language": "python",
   "name": "python3"
  },
  "language_info": {
   "codemirror_mode": {
    "name": "ipython",
    "version": 3
   },
   "file_extension": ".py",
   "mimetype": "text/x-python",
   "name": "python",
   "nbconvert_exporter": "python",
   "pygments_lexer": "ipython3",
   "version": "3.10.9"
  }
 },
 "nbformat": 4,
 "nbformat_minor": 5
}
