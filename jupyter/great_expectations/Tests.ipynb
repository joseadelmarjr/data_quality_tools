{
 "cells": [
  {
   "cell_type": "code",
   "execution_count": 6,
   "id": "7fa3c20a-c8a3-4332-9a0b-e1db882ef4b7",
   "metadata": {},
   "outputs": [
    {
     "name": "stdout",
     "output_type": "stream",
     "text": [
      "\u001b[31mERROR: Could not open requirements file: [Errno 2] No such file or directory: 'requirements.txt'\u001b[0m\u001b[31m\n",
      "\u001b[0m\n",
      "\u001b[1m[\u001b[0m\u001b[34;49mnotice\u001b[0m\u001b[1;39;49m]\u001b[0m\u001b[39;49m A new release of pip available: \u001b[0m\u001b[31;49m22.3.1\u001b[0m\u001b[39;49m -> \u001b[0m\u001b[32;49m24.0\u001b[0m\n",
      "\u001b[1m[\u001b[0m\u001b[34;49mnotice\u001b[0m\u001b[1;39;49m]\u001b[0m\u001b[39;49m To update, run: \u001b[0m\u001b[32;49mpip install --upgrade pip\u001b[0m\n",
      "Note: you may need to restart the kernel to use updated packages.\n"
     ]
    }
   ],
   "source": [
    "pip install -r requirements.txt"
   ]
  },
  {
   "cell_type": "code",
   "execution_count": 7,
   "id": "03cb4445-ee2b-4830-81c6-769b785e4165",
   "metadata": {},
   "outputs": [],
   "source": [
    "import great_expectations as gx\n",
    "\n",
    "context = gx.get_context()"
   ]
  },
  {
   "cell_type": "code",
   "execution_count": 8,
   "id": "274372fc-a8ab-46f3-9e06-28554da7f4a7",
   "metadata": {},
   "outputs": [],
   "source": [
    "validator = context.sources.pandas_default.read_csv(\"../data/2004-2021.tsv\",sep=\"\t\")"
   ]
  },
  {
   "cell_type": "code",
   "execution_count": 9,
   "id": "21fe4dad-f0e0-46c0-9354-953438a1f989",
   "metadata": {},
   "outputs": [
    {
     "data": {
      "text/plain": [
       "{\n",
       "  \"expectation_suite_name\": \"my_expectation_suite\",\n",
       "  \"ge_cloud_id\": null,\n",
       "  \"expectations\": [],\n",
       "  \"data_asset_type\": null,\n",
       "  \"meta\": {\n",
       "    \"great_expectations_version\": \"0.18.8\"\n",
       "  }\n",
       "}"
      ]
     },
     "execution_count": 9,
     "metadata": {},
     "output_type": "execute_result"
    }
   ],
   "source": [
    "context.add_or_update_expectation_suite(\"my_expectation_suite\")"
   ]
  },
  {
   "cell_type": "code",
   "execution_count": 10,
   "id": "d9a5c6dc-3abf-43aa-8014-d8ae5bfc2071",
   "metadata": {},
   "outputs": [],
   "source": [
    "tests = []"
   ]
  },
  {
   "cell_type": "code",
   "execution_count": 11,
   "id": "0fc70ea7-f461-4070-913f-822152b64842",
   "metadata": {},
   "outputs": [
    {
     "data": {
      "application/vnd.jupyter.widget-view+json": {
       "model_id": "4e224d430b10465faab8828ce841cefa",
       "version_major": 2,
       "version_minor": 0
      },
      "text/plain": [
       "Calculating Metrics:   0%|          | 0/6 [00:00<?, ?it/s]"
      ]
     },
     "metadata": {},
     "output_type": "display_data"
    }
   ],
   "source": [
    "tests.append(validator.expect_column_values_to_not_be_null(\n",
    "    column=\"DATA INICIAL\"\n",
    ")\n",
    "           )"
   ]
  },
  {
   "cell_type": "code",
   "execution_count": 12,
   "id": "968d89e7-41d9-4ca0-8173-b900961f22ab",
   "metadata": {},
   "outputs": [
    {
     "data": {
      "application/vnd.jupyter.widget-view+json": {
       "model_id": "4d149c1420744115ae818bc0c277905b",
       "version_major": 2,
       "version_minor": 0
      },
      "text/plain": [
       "Calculating Metrics:   0%|          | 0/1 [00:00<?, ?it/s]"
      ]
     },
     "metadata": {},
     "output_type": "display_data"
    }
   ],
   "source": [
    "tests.append(\n",
    "    validator.expect_column_values_to_be_of_type(\n",
    "    column=\"NÚMERO DE POSTOS PESQUISADOS\"\n",
    "    ,type_=\"int\"\n",
    "    )\n",
    "           )"
   ]
  },
  {
   "cell_type": "code",
   "execution_count": 13,
   "id": "4c129a71-3be0-4a21-bbdf-bfa8dd03979c",
   "metadata": {},
   "outputs": [
    {
     "data": {
      "application/vnd.jupyter.widget-view+json": {
       "model_id": "b09d68e62593468d8668d722aea45cf2",
       "version_major": 2,
       "version_minor": 0
      },
      "text/plain": [
       "Calculating Metrics:   0%|          | 0/4 [00:00<?, ?it/s]"
      ]
     },
     "metadata": {},
     "output_type": "display_data"
    }
   ],
   "source": [
    "tests.append(validator.expect_column_unique_value_count_to_be_between(\n",
    "    column=\"ESTADO\"\n",
    "    ,min_value=1\n",
    "    ,max_value=27\n",
    ")\n",
    "            )"
   ]
  },
  {
   "cell_type": "code",
   "execution_count": 14,
   "id": "57497c22-9526-4bf4-a537-cb7ec6e8b471",
   "metadata": {},
   "outputs": [
    {
     "data": {
      "application/vnd.jupyter.widget-view+json": {
       "model_id": "0c1cf7f9c9e446208241b1211bb99ce8",
       "version_major": 2,
       "version_minor": 0
      },
      "text/plain": [
       "Calculating Metrics:   0%|          | 0/8 [00:00<?, ?it/s]"
      ]
     },
     "metadata": {},
     "output_type": "display_data"
    }
   ],
   "source": [
    "tests.append(validator.expect_column_values_to_match_regex(\n",
    "     column=\"UNIDADE DE MEDIDA\"\n",
    "    ,regex=\"^R\\$/\"\n",
    ")\n",
    "            )            \n"
   ]
  },
  {
   "cell_type": "code",
   "execution_count": 15,
   "id": "b274e99e-ad59-4dee-a9ad-78696af4bbbf",
   "metadata": {},
   "outputs": [
    {
     "data": {
      "application/vnd.jupyter.widget-view+json": {
       "model_id": "7a8c6a8132564fb19f4bc16577b5f41f",
       "version_major": 2,
       "version_minor": 0
      },
      "text/plain": [
       "Calculating Metrics:   0%|          | 0/7 [00:00<?, ?it/s]"
      ]
     },
     "metadata": {},
     "output_type": "display_data"
    }
   ],
   "source": [
    "tests.append(validator.expect_column_pair_values_A_to_be_greater_than_B(\n",
    "    column_A=\"PREÇO MÁXIMO REVENDA\"\n",
    "    ,column_B=\"PREÇO MÍNIMO REVENDA\"\n",
    "    ,or_equal=True\n",
    ")\n",
    "            )"
   ]
  },
  {
   "cell_type": "code",
   "execution_count": 16,
   "id": "03ca4f0f-b969-4321-bf9d-8e6bc04c57e3",
   "metadata": {},
   "outputs": [
    {
     "data": {
      "text/plain": [
       "{\n",
       "  \"expectation_suite_name\": \"default\",\n",
       "  \"ge_cloud_id\": null,\n",
       "  \"expectations\": [\n",
       "    {\n",
       "      \"expectation_type\": \"expect_column_values_to_not_be_null\",\n",
       "      \"kwargs\": {\n",
       "        \"column\": \"DATA INICIAL\"\n",
       "      },\n",
       "      \"meta\": {}\n",
       "    },\n",
       "    {\n",
       "      \"expectation_type\": \"expect_column_values_to_be_of_type\",\n",
       "      \"kwargs\": {\n",
       "        \"column\": \"N\\u00daMERO DE POSTOS PESQUISADOS\",\n",
       "        \"type_\": \"int\"\n",
       "      },\n",
       "      \"meta\": {}\n",
       "    },\n",
       "    {\n",
       "      \"expectation_type\": \"expect_column_unique_value_count_to_be_between\",\n",
       "      \"kwargs\": {\n",
       "        \"column\": \"ESTADO\",\n",
       "        \"min_value\": 1,\n",
       "        \"max_value\": 27\n",
       "      },\n",
       "      \"meta\": {}\n",
       "    },\n",
       "    {\n",
       "      \"expectation_type\": \"expect_column_values_to_match_regex\",\n",
       "      \"kwargs\": {\n",
       "        \"column\": \"UNIDADE DE MEDIDA\",\n",
       "        \"regex\": \"^R\\\\$/\"\n",
       "      },\n",
       "      \"meta\": {}\n",
       "    },\n",
       "    {\n",
       "      \"expectation_type\": \"expect_column_pair_values_a_to_be_greater_than_b\",\n",
       "      \"kwargs\": {\n",
       "        \"column_A\": \"PRE\\u00c7O M\\u00c1XIMO REVENDA\",\n",
       "        \"column_B\": \"PRE\\u00c7O M\\u00cdNIMO REVENDA\",\n",
       "        \"or_equal\": true\n",
       "      },\n",
       "      \"meta\": {}\n",
       "    }\n",
       "  ],\n",
       "  \"data_asset_type\": null,\n",
       "  \"meta\": {\n",
       "    \"great_expectations_version\": \"0.18.8\"\n",
       "  }\n",
       "}"
      ]
     },
     "execution_count": 16,
     "metadata": {},
     "output_type": "execute_result"
    }
   ],
   "source": [
    "validator.get_expectation_suite()"
   ]
  },
  {
   "cell_type": "code",
   "execution_count": 17,
   "id": "2a358b6e-8565-4f50-9ba1-78aa1f496efa",
   "metadata": {},
   "outputs": [
    {
     "data": {
      "text/plain": [
       "[{\n",
       "   \"success\": true,\n",
       "   \"result\": {\n",
       "     \"element_count\": 120823,\n",
       "     \"unexpected_count\": 0,\n",
       "     \"unexpected_percent\": 0.0,\n",
       "     \"partial_unexpected_list\": []\n",
       "   },\n",
       "   \"meta\": {},\n",
       "   \"exception_info\": {\n",
       "     \"raised_exception\": false,\n",
       "     \"exception_traceback\": null,\n",
       "     \"exception_message\": null\n",
       "   }\n",
       " },\n",
       " {\n",
       "   \"success\": true,\n",
       "   \"result\": {\n",
       "     \"observed_value\": \"int64\"\n",
       "   },\n",
       "   \"meta\": {},\n",
       "   \"exception_info\": {\n",
       "     \"raised_exception\": false,\n",
       "     \"exception_traceback\": null,\n",
       "     \"exception_message\": null\n",
       "   }\n",
       " },\n",
       " {\n",
       "   \"success\": true,\n",
       "   \"result\": {\n",
       "     \"observed_value\": 27\n",
       "   },\n",
       "   \"meta\": {},\n",
       "   \"exception_info\": {\n",
       "     \"raised_exception\": false,\n",
       "     \"exception_traceback\": null,\n",
       "     \"exception_message\": null\n",
       "   }\n",
       " },\n",
       " {\n",
       "   \"success\": true,\n",
       "   \"result\": {\n",
       "     \"element_count\": 120823,\n",
       "     \"unexpected_count\": 0,\n",
       "     \"unexpected_percent\": 0.0,\n",
       "     \"partial_unexpected_list\": [],\n",
       "     \"missing_count\": 0,\n",
       "     \"missing_percent\": 0.0,\n",
       "     \"unexpected_percent_total\": 0.0,\n",
       "     \"unexpected_percent_nonmissing\": 0.0\n",
       "   },\n",
       "   \"meta\": {},\n",
       "   \"exception_info\": {\n",
       "     \"raised_exception\": false,\n",
       "     \"exception_traceback\": null,\n",
       "     \"exception_message\": null\n",
       "   }\n",
       " },\n",
       " {\n",
       "   \"success\": true,\n",
       "   \"result\": {\n",
       "     \"element_count\": 120823,\n",
       "     \"unexpected_count\": 0,\n",
       "     \"unexpected_percent\": 0.0,\n",
       "     \"partial_unexpected_list\": [],\n",
       "     \"missing_count\": 0,\n",
       "     \"missing_percent\": 0.0,\n",
       "     \"unexpected_percent_total\": 0.0,\n",
       "     \"unexpected_percent_nonmissing\": 0.0\n",
       "   },\n",
       "   \"meta\": {},\n",
       "   \"exception_info\": {\n",
       "     \"raised_exception\": false,\n",
       "     \"exception_traceback\": null,\n",
       "     \"exception_message\": null\n",
       "   }\n",
       " }]"
      ]
     },
     "execution_count": 17,
     "metadata": {},
     "output_type": "execute_result"
    }
   ],
   "source": [
    "tests"
   ]
  }
 ],
 "metadata": {
  "kernelspec": {
   "display_name": "Python 3 (ipykernel)",
   "language": "python",
   "name": "python3"
  },
  "language_info": {
   "codemirror_mode": {
    "name": "ipython",
    "version": 3
   },
   "file_extension": ".py",
   "mimetype": "text/x-python",
   "name": "python",
   "nbconvert_exporter": "python",
   "pygments_lexer": "ipython3",
   "version": "3.10.9"
  }
 },
 "nbformat": 4,
 "nbformat_minor": 5
}
